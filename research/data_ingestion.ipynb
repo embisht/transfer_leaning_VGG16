{
 "cells": [
  {
   "cell_type": "code",
   "execution_count": 2,
   "metadata": {},
   "outputs": [],
   "source": [
    "import os"
   ]
  },
  {
   "cell_type": "code",
   "execution_count": 3,
   "metadata": {},
   "outputs": [
    {
     "data": {
      "text/plain": [
       "'e:\\\\DL_project\\\\transfer_learning_VGG16\\\\research'"
      ]
     },
     "execution_count": 3,
     "metadata": {},
     "output_type": "execute_result"
    }
   ],
   "source": [
    "%pwd"
   ]
  },
  {
   "cell_type": "code",
   "execution_count": 4,
   "metadata": {},
   "outputs": [],
   "source": [
    "os.chdir(\"../\")"
   ]
  },
  {
   "cell_type": "code",
   "execution_count": 5,
   "metadata": {},
   "outputs": [
    {
     "data": {
      "text/plain": [
       "'e:\\\\DL_project\\\\transfer_learning_VGG16'"
      ]
     },
     "execution_count": 5,
     "metadata": {},
     "output_type": "execute_result"
    }
   ],
   "source": [
    "%pwd"
   ]
  },
  {
   "cell_type": "code",
   "execution_count": 6,
   "metadata": {},
   "outputs": [],
   "source": [
    "from dataclasses import dataclass\n",
    "from pathlib import Path\n",
    "\n",
    "\n",
    "@dataclass(frozen=True)   # return type entity\n",
    "class DataIngestionConfig:\n",
    "    root_dir: Path\n",
    "    source_URL: str\n",
    "    local_data_file: Path\n",
    "    unzip_dir: Path"
   ]
  },
  {
   "cell_type": "code",
   "execution_count": 7,
   "metadata": {},
   "outputs": [],
   "source": [
    "from cnnClassifier.constants import *\n",
    "from cnnClassifier.utils.common import read_yaml,create_directories"
   ]
  },
  {
   "cell_type": "code",
   "execution_count": 8,
   "metadata": {},
   "outputs": [],
   "source": [
    "class ConfigurationManager:\n",
    "    def __init__(\n",
    "        self,\n",
    "        config_filepath = CONFIG_FILE_PATH,\n",
    "        params_filepath = PARAMS_FILE_PATH):\n",
    "\n",
    "        self.config = read_yaml(config_filepath)\n",
    "        self.params = read_yaml(params_filepath)\n",
    "\n",
    "        create_directories([self.config.artifacts_root])\n",
    "\n",
    "\n",
    "    \n",
    "    def get_data_ingestion_config(self) -> DataIngestionConfig:\n",
    "        config = self.config.data_ingestion\n",
    "\n",
    "        create_directories([config.root_dir])\n",
    "\n",
    "        data_ingestion_config = DataIngestionConfig(\n",
    "            root_dir=config.root_dir,\n",
    "            source_URL=config.source_URL,\n",
    "            local_data_file=config.local_data_file,\n",
    "            unzip_dir=config.unzip_dir \n",
    "        )\n",
    "\n",
    "        return data_ingestion_config"
   ]
  },
  {
   "cell_type": "code",
   "execution_count": 9,
   "metadata": {},
   "outputs": [],
   "source": [
    "import os\n",
    "import zipfile\n",
    "import gdown\n",
    "from cnnClassifier import logger\n",
    "from cnnClassifier.utils.common import get_size"
   ]
  },
  {
   "cell_type": "code",
   "execution_count": 10,
   "metadata": {},
   "outputs": [],
   "source": [
    "class DataIngestion:\n",
    "    def __init__(self, config: DataIngestionConfig):\n",
    "        self.config = config\n",
    "\n",
    "\n",
    "    \n",
    "     \n",
    "    def download_file(self)-> str:\n",
    "        '''\n",
    "        Fetch data from the url\n",
    "        '''\n",
    "\n",
    "        try: \n",
    "            dataset_url = self.config.source_URL\n",
    "            zip_download_dir = self.config.local_data_file\n",
    "            os.makedirs(\"artifacts/data_ingestion\", exist_ok=True)\n",
    "            logger.info(f\"Downloading data from {dataset_url} into file {zip_download_dir}\")\n",
    "\n",
    "            file_id = dataset_url.split(\"/\")[-2]\n",
    "            prefix = 'https://drive.google.com/uc?/export=download&id='\n",
    "            gdown.download(prefix+file_id,zip_download_dir)\n",
    "\n",
    "            logger.info(f\"Downloaded data from {dataset_url} into file {zip_download_dir}\")\n",
    "\n",
    "        except Exception as e:\n",
    "            raise e\n",
    "        \n",
    "    \n",
    "    def extract_zip_file(self):\n",
    "        \"\"\"\n",
    "        zip_file_path: str\n",
    "        Extracts the zip file into the data directory\n",
    "        Function returns None\n",
    "        \"\"\"\n",
    "        unzip_path = self.config.unzip_dir\n",
    "        os.makedirs(unzip_path, exist_ok=True)\n",
    "        with zipfile.ZipFile(self.config.local_data_file, 'r') as zip_ref:\n",
    "            zip_ref.extractall(unzip_path)"
   ]
  },
  {
   "cell_type": "code",
   "execution_count": 11,
   "metadata": {},
   "outputs": [
    {
     "name": "stdout",
     "output_type": "stream",
     "text": [
      "[2024-02-20 15:41:50,720: INFO: common: yaml file: config\\config.yaml loaded successfully]\n",
      "[2024-02-20 15:41:50,723: INFO: common: yaml file: params.yaml loaded successfully]\n",
      "[2024-02-20 15:41:50,724: INFO: common: created directory at: artifacts]\n",
      "[2024-02-20 15:41:50,725: INFO: common: created directory at: artifacts/data_ingestion]\n",
      "[2024-02-20 15:41:50,727: INFO: 1983665874: Downloading data from https://drive.google.com/file/d/1WdO5i5e-e6_sTTQe1M50BwXcwAHD6K98&export=download&authuser=2&confirm=t&uuid=c987e05f-f468-4d95-b7e9-43cd5c7e635a&at=APZUnTWWK200fwr-qkT6K8f-IzMN:1706110778369/view?usp=sharing into file artifacts/data_ingestion/data.zip]\n"
     ]
    },
    {
     "name": "stderr",
     "output_type": "stream",
     "text": [
      "Downloading...\n",
      "From: https://drive.google.com/uc?/export=download&id=1WdO5i5e-e6_sTTQe1M50BwXcwAHD6K98&export=download&authuser=2&confirm=t&uuid=c987e05f-f468-4d95-b7e9-43cd5c7e635a&at=APZUnTWWK200fwr-qkT6K8f-IzMN:1706110778369\n",
      "To: e:\\DL_project\\transfer_learning_VGG16\\artifacts\\data_ingestion\\data.zip\n",
      "100%|██████████| 205M/205M [03:09<00:00, 1.08MB/s] "
     ]
    },
    {
     "name": "stdout",
     "output_type": "stream",
     "text": [
      "[2024-02-20 15:45:03,022: INFO: 1983665874: Downloaded data from https://drive.google.com/file/d/1WdO5i5e-e6_sTTQe1M50BwXcwAHD6K98&export=download&authuser=2&confirm=t&uuid=c987e05f-f468-4d95-b7e9-43cd5c7e635a&at=APZUnTWWK200fwr-qkT6K8f-IzMN:1706110778369/view?usp=sharing into file artifacts/data_ingestion/data.zip]\n"
     ]
    },
    {
     "name": "stderr",
     "output_type": "stream",
     "text": [
      "\n"
     ]
    }
   ],
   "source": [
    "try:\n",
    "    config = ConfigurationManager()\n",
    "    data_ingestion_config = config.get_data_ingestion_config()\n",
    "    data_ingestion = DataIngestion(config=data_ingestion_config)\n",
    "    data_ingestion.download_file()\n",
    "    data_ingestion.extract_zip_file()\n",
    "except Exception as e:\n",
    "    raise e"
   ]
  },
  {
   "cell_type": "code",
   "execution_count": null,
   "metadata": {},
   "outputs": [],
   "source": [
    "from cnnClassifier.config.configuration import ConfigurationManager"
   ]
  },
  {
   "cell_type": "code",
   "execution_count": 39,
   "metadata": {},
   "outputs": [
    {
     "name": "stdout",
     "output_type": "stream",
     "text": [
      "Collecting gdown==4.6.0\n",
      "  Downloading gdown-4.6.0-py3-none-any.whl (14 kB)\n",
      "Requirement already satisfied: filelock in c:\\users\\bisht\\anaconda3\\envs\\stone\\lib\\site-packages (from gdown==4.6.0) (3.13.1)\n",
      "Requirement already satisfied: requests[socks] in c:\\users\\bisht\\anaconda3\\envs\\stone\\lib\\site-packages (from gdown==4.6.0) (2.31.0)\n",
      "Requirement already satisfied: six in c:\\users\\bisht\\anaconda3\\envs\\stone\\lib\\site-packages (from gdown==4.6.0) (1.16.0)\n",
      "Requirement already satisfied: tqdm in c:\\users\\bisht\\anaconda3\\envs\\stone\\lib\\site-packages (from gdown==4.6.0) (4.66.1)\n",
      "Requirement already satisfied: beautifulsoup4 in c:\\users\\bisht\\anaconda3\\envs\\stone\\lib\\site-packages (from gdown==4.6.0) (4.12.2)\n",
      "Requirement already satisfied: soupsieve>1.2 in c:\\users\\bisht\\anaconda3\\envs\\stone\\lib\\site-packages (from beautifulsoup4->gdown==4.6.0) (2.5)\n",
      "Requirement already satisfied: charset-normalizer<4,>=2 in c:\\users\\bisht\\anaconda3\\envs\\stone\\lib\\site-packages (from requests[socks]->gdown==4.6.0) (3.3.2)\n",
      "Requirement already satisfied: idna<4,>=2.5 in c:\\users\\bisht\\anaconda3\\envs\\stone\\lib\\site-packages (from requests[socks]->gdown==4.6.0) (3.6)\n",
      "Requirement already satisfied: urllib3<3,>=1.21.1 in c:\\users\\bisht\\anaconda3\\envs\\stone\\lib\\site-packages (from requests[socks]->gdown==4.6.0) (2.1.0)\n",
      "Requirement already satisfied: certifi>=2017.4.17 in c:\\users\\bisht\\anaconda3\\envs\\stone\\lib\\site-packages (from requests[socks]->gdown==4.6.0) (2023.11.17)\n",
      "Requirement already satisfied: PySocks!=1.5.7,>=1.5.6 in c:\\users\\bisht\\anaconda3\\envs\\stone\\lib\\site-packages (from requests[socks]->gdown==4.6.0) (1.7.1)\n",
      "Requirement already satisfied: colorama in c:\\users\\bisht\\anaconda3\\envs\\stone\\lib\\site-packages (from tqdm->gdown==4.6.0) (0.4.6)\n",
      "Installing collected packages: gdown\n",
      "  Attempting uninstall: gdown\n",
      "    Found existing installation: gdown 4.7.1\n",
      "    Uninstalling gdown-4.7.1:\n",
      "      Successfully uninstalled gdown-4.7.1\n",
      "Successfully installed gdown-4.6.0\n",
      "Note: you may need to restart the kernel to use updated packages.\n"
     ]
    }
   ],
   "source": [
    "pip install gdown==4.6.0 "
   ]
  },
  {
   "cell_type": "code",
   "execution_count": 49,
   "metadata": {},
   "outputs": [
    {
     "name": "stdout",
     "output_type": "stream",
     "text": [
      "Requirement already satisfied: gdown in c:\\users\\bisht\\anaconda3\\envs\\stone\\lib\\site-packages (4.6.0)Note: you may need to restart the kernel to use updated packages.\n",
      "\n",
      "Collecting gdown\n",
      "  Downloading gdown-5.0.0-py3-none-any.whl.metadata (5.6 kB)\n",
      "Requirement already satisfied: beautifulsoup4 in c:\\users\\bisht\\anaconda3\\envs\\stone\\lib\\site-packages (from gdown) (4.12.2)\n",
      "Requirement already satisfied: filelock in c:\\users\\bisht\\anaconda3\\envs\\stone\\lib\\site-packages (from gdown) (3.13.1)\n",
      "Requirement already satisfied: requests[socks] in c:\\users\\bisht\\anaconda3\\envs\\stone\\lib\\site-packages (from gdown) (2.31.0)\n",
      "Requirement already satisfied: tqdm in c:\\users\\bisht\\anaconda3\\envs\\stone\\lib\\site-packages (from gdown) (4.66.1)\n",
      "Requirement already satisfied: soupsieve>1.2 in c:\\users\\bisht\\anaconda3\\envs\\stone\\lib\\site-packages (from beautifulsoup4->gdown) (2.5)\n",
      "Requirement already satisfied: charset-normalizer<4,>=2 in c:\\users\\bisht\\anaconda3\\envs\\stone\\lib\\site-packages (from requests[socks]->gdown) (3.3.2)\n",
      "Requirement already satisfied: idna<4,>=2.5 in c:\\users\\bisht\\anaconda3\\envs\\stone\\lib\\site-packages (from requests[socks]->gdown) (3.6)\n",
      "Requirement already satisfied: urllib3<3,>=1.21.1 in c:\\users\\bisht\\anaconda3\\envs\\stone\\lib\\site-packages (from requests[socks]->gdown) (2.1.0)\n",
      "Requirement already satisfied: certifi>=2017.4.17 in c:\\users\\bisht\\anaconda3\\envs\\stone\\lib\\site-packages (from requests[socks]->gdown) (2023.11.17)\n",
      "Requirement already satisfied: PySocks!=1.5.7,>=1.5.6 in c:\\users\\bisht\\anaconda3\\envs\\stone\\lib\\site-packages (from requests[socks]->gdown) (1.7.1)\n",
      "Requirement already satisfied: colorama in c:\\users\\bisht\\anaconda3\\envs\\stone\\lib\\site-packages (from tqdm->gdown) (0.4.6)\n",
      "Downloading gdown-5.0.0-py3-none-any.whl (16 kB)\n",
      "Installing collected packages: gdown\n",
      "  Attempting uninstall: gdown\n",
      "    Found existing installation: gdown 4.6.0\n",
      "    Uninstalling gdown-4.6.0:\n",
      "      Successfully uninstalled gdown-4.6.0\n",
      "Successfully installed gdown-5.0.0\n"
     ]
    }
   ],
   "source": [
    "pip install --upgrade --no-cache-dir gdown"
   ]
  },
  {
   "cell_type": "code",
   "execution_count": 55,
   "metadata": {},
   "outputs": [],
   "source": [
    "import gdown\n",
    "import os"
   ]
  },
  {
   "cell_type": "code",
   "execution_count": 56,
   "metadata": {},
   "outputs": [],
   "source": [
    "url = \"https://drive.google.com/file/d/1WdO5i5e-e6_sTTQe1M50BwXcwAHD6K98&export=download&authuser=2&confirm=t&uuid=c987e05f-f468-4d95-b7e9-43cd5c7e635a&at=APZUnTWWK200fwr-qkT6K8f-IzMN:1706110778369/view?usp=sharing\""
   ]
  },
  {
   "cell_type": "code",
   "execution_count": 57,
   "metadata": {},
   "outputs": [
    {
     "data": {
      "text/plain": [
       "'1WdO5i5e-e6_sTTQe1M50BwXcwAHD6K98&export=download&authuser=2&confirm=t&uuid=c987e05f-f468-4d95-b7e9-43cd5c7e635a&at=APZUnTWWK200fwr-qkT6K8f-IzMN:1706110778369'"
      ]
     },
     "execution_count": 57,
     "metadata": {},
     "output_type": "execute_result"
    }
   ],
   "source": [
    "file_id = url.split('/')[-2]\n",
    "file_id"
   ]
  },
  {
   "cell_type": "code",
   "execution_count": 58,
   "metadata": {},
   "outputs": [
    {
     "name": "stderr",
     "output_type": "stream",
     "text": [
      "Downloading...\n",
      "From: https://drive.usercontent.google.com/download?id=1WdO5i5e-e6_sTTQe1M50BwXcwAHD6K98&export=download&authuser=2&confirm=t&uuid=c987e05f-f468-4d95-b7e9-43cd5c7e635a&at=APZUnTWWK200fwr-qkT6K8f-IzMN:1706110778369\n",
      "To: c:\\Users\\bisht\\OneDrive\\Desktop\\Mtech\\dl_project\\Deep_learning_project\\stone.zip\n",
      "100%|██████████| 205M/205M [02:36<00:00, 1.30MB/s] \n"
     ]
    },
    {
     "data": {
      "text/plain": [
       "'stone.zip'"
      ]
     },
     "execution_count": 58,
     "metadata": {},
     "output_type": "execute_result"
    }
   ],
   "source": [
    "prefix = \"https://drive.usercontent.google.com/download?id=\"\n",
    "gdown.download(prefix+file_id, \"stone.zip\")"
   ]
  },
  {
   "cell_type": "code",
   "execution_count": 4,
   "metadata": {},
   "outputs": [
    {
     "name": "stdout",
     "output_type": "stream",
     "text": [
      "9\n",
      "8\n",
      "7\n",
      "6\n",
      "5\n",
      "4\n",
      "3\n",
      "2\n",
      "1\n",
      "0\n"
     ]
    }
   ],
   "source": [
    "n=10\n",
    "for i in range(n-1,-1,-1):\n",
    "    print(i)"
   ]
  },
  {
   "cell_type": "code",
   "execution_count": null,
   "metadata": {},
   "outputs": [],
   "source": []
  }
 ],
 "metadata": {
  "kernelspec": {
   "display_name": "dl_env",
   "language": "python",
   "name": "python3"
  },
  "language_info": {
   "codemirror_mode": {
    "name": "ipython",
    "version": 3
   },
   "file_extension": ".py",
   "mimetype": "text/x-python",
   "name": "python",
   "nbconvert_exporter": "python",
   "pygments_lexer": "ipython3",
   "version": "3.8.18"
  }
 },
 "nbformat": 4,
 "nbformat_minor": 2
}
